{
 "cells": [
  {
   "cell_type": "code",
   "execution_count": 6,
   "metadata": {},
   "outputs": [],
   "source": [
    "import peyton #throne package => https://pypi.python.org/pypi/peyton  => use pip install peyton with anaconda\n",
    "import pandas as pd\n",
    "import sqlite3\n",
    "from sqlalchemy import create_engine\n",
    "import time\n",
    "time_sleep = 2\n",
    "\n",
    "#list of the competition available on throme.ai (10/12/2017)\n",
    "#competitions = ['English Championship','English Premier League','Italian Serie A','Spanish La Liga','NBA','NFL','NHL']\n",
    "competitions = ['Italian Serie A']"
   ]
  },
  {
   "cell_type": "code",
   "execution_count": 7,
   "metadata": {},
   "outputs": [],
   "source": [
    "#ThroneUser = \"JulienHeiduk\"\n",
    "#ThroneToken = \"bcebc6d7-f224-4940-a816-74e3e6d4c34a\" # Julien\n",
    "ThroneUser = \"NicoDupont\"\n",
    "ThroneToken = \"802f4123-4696-4b35-9e31-e8c32d91f658\" #Nico"
   ]
  },
  {
   "cell_type": "code",
   "execution_count": 8,
   "metadata": {},
   "outputs": [],
   "source": [
    "# API throne.ai :\n",
    "throne = peyton.Throne(username=ThroneUser, token=ThroneToken)"
   ]
  },
  {
   "cell_type": "code",
   "execution_count": 9,
   "metadata": {},
   "outputs": [],
   "source": [
    "#columns = Throne_historical_data.columns.tolist()\n",
    "#print(columns)\n",
    "def ThroneData(df):\n",
    "    df.reset_index()\n",
    "    #df.drop('Unnamed: 0', 1, inplace=True)\n",
    "    df['year'] = df.date.str.slice(0,4)\n",
    "    df['month'] = df.date.str.slice(5,7)\n",
    "    df['day'] = df.date.str.slice(8,10)"
   ]
  },
  {
   "cell_type": "code",
   "execution_count": 10,
   "metadata": {},
   "outputs": [
    {
     "ename": "ThrottleError",
     "evalue": "Request was throttled. Expected available in 85334 seconds.",
     "output_type": "error",
     "traceback": [
      "\u001b[0;31m---------------------------------------------------------------------------\u001b[0m",
      "\u001b[0;31mThrottleError\u001b[0m                             Traceback (most recent call last)",
      "\u001b[0;32m<ipython-input-10-b55884f2e2f5>\u001b[0m in \u001b[0;36m<module>\u001b[0;34m()\u001b[0m\n\u001b[1;32m      2\u001b[0m \u001b[0mi\u001b[0m \u001b[0;34m=\u001b[0m \u001b[0;36m0\u001b[0m\u001b[0;34m\u001b[0m\u001b[0m\n\u001b[1;32m      3\u001b[0m \u001b[0;32mfor\u001b[0m \u001b[0mcompet\u001b[0m \u001b[0;32min\u001b[0m \u001b[0mcompetitions\u001b[0m\u001b[0;34m:\u001b[0m\u001b[0;34m\u001b[0m\u001b[0m\n\u001b[0;32m----> 4\u001b[0;31m     \u001b[0mthrone\u001b[0m\u001b[0;34m.\u001b[0m\u001b[0mcompetition\u001b[0m\u001b[0;34m(\u001b[0m\u001b[0mcompet\u001b[0m\u001b[0;34m)\u001b[0m\u001b[0;34m.\u001b[0m\u001b[0mget_historical_data\u001b[0m\u001b[0;34m(\u001b[0m\u001b[0;34m)\u001b[0m\u001b[0;34m\u001b[0m\u001b[0m\n\u001b[0m\u001b[1;32m      5\u001b[0m     \u001b[0;32mif\u001b[0m \u001b[0mi\u001b[0m \u001b[0;34m==\u001b[0m \u001b[0;36m0\u001b[0m\u001b[0;34m:\u001b[0m\u001b[0;34m\u001b[0m\u001b[0m\n\u001b[1;32m      6\u001b[0m         \u001b[0mNewData\u001b[0m \u001b[0;34m=\u001b[0m \u001b[0mthrone\u001b[0m\u001b[0;34m.\u001b[0m\u001b[0mcompetition\u001b[0m\u001b[0;34m.\u001b[0m\u001b[0mhistorical_data\u001b[0m\u001b[0;34m\u001b[0m\u001b[0m\n",
      "\u001b[0;32m~/anaconda3/lib/python3.6/site-packages/peyton/competition.py\u001b[0m in \u001b[0;36mget_historical_data\u001b[0;34m(self, file_dir)\u001b[0m\n\u001b[1;32m     62\u001b[0m         \u001b[0;31m# If we reach this point, we're going through the API\u001b[0m\u001b[0;34m\u001b[0m\u001b[0;34m\u001b[0m\u001b[0m\n\u001b[1;32m     63\u001b[0m         \u001b[0mresult\u001b[0m \u001b[0;34m=\u001b[0m \u001b[0mrequests\u001b[0m\u001b[0;34m.\u001b[0m\u001b[0mget\u001b[0m\u001b[0;34m(\u001b[0m\u001b[0;34m'%s%s'\u001b[0m \u001b[0;34m%\u001b[0m \u001b[0;34m(\u001b[0m\u001b[0mself\u001b[0m\u001b[0;34m.\u001b[0m\u001b[0mapi\u001b[0m\u001b[0;34m.\u001b[0m\u001b[0mBASE_URL\u001b[0m\u001b[0;34m,\u001b[0m \u001b[0;34m'competition/data/historical/'\u001b[0m\u001b[0;34m)\u001b[0m\u001b[0;34m,\u001b[0m \u001b[0mheaders\u001b[0m\u001b[0;34m=\u001b[0m\u001b[0mself\u001b[0m\u001b[0;34m.\u001b[0m\u001b[0mapi\u001b[0m\u001b[0;34m.\u001b[0m\u001b[0mheaders\u001b[0m\u001b[0;34m)\u001b[0m\u001b[0;34m\u001b[0m\u001b[0m\n\u001b[0;32m---> 64\u001b[0;31m         \u001b[0mself\u001b[0m\u001b[0;34m.\u001b[0m\u001b[0mapi\u001b[0m\u001b[0;34m.\u001b[0m\u001b[0m_auth_report\u001b[0m\u001b[0;34m(\u001b[0m\u001b[0mresult\u001b[0m\u001b[0;34m)\u001b[0m\u001b[0;34m\u001b[0m\u001b[0m\n\u001b[0m\u001b[1;32m     65\u001b[0m \u001b[0;34m\u001b[0m\u001b[0m\n\u001b[1;32m     66\u001b[0m         \u001b[0;31m# extract csv form zip and read into pandas DataFrame\u001b[0m\u001b[0;34m\u001b[0m\u001b[0;34m\u001b[0m\u001b[0m\n",
      "\u001b[0;32m~/anaconda3/lib/python3.6/site-packages/peyton/throne.py\u001b[0m in \u001b[0;36m_auth_report\u001b[0;34m(result)\u001b[0m\n\u001b[1;32m     56\u001b[0m \u001b[0;34m\u001b[0m\u001b[0m\n\u001b[1;32m     57\u001b[0m         \u001b[0;32mif\u001b[0m \u001b[0mresult\u001b[0m\u001b[0;34m.\u001b[0m\u001b[0mstatus_code\u001b[0m \u001b[0;34m==\u001b[0m \u001b[0;36m429\u001b[0m\u001b[0;34m:\u001b[0m\u001b[0;34m\u001b[0m\u001b[0m\n\u001b[0;32m---> 58\u001b[0;31m             \u001b[0;32mraise\u001b[0m \u001b[0mThrottleError\u001b[0m\u001b[0;34m(\u001b[0m\u001b[0mjson\u001b[0m\u001b[0;34m.\u001b[0m\u001b[0mloads\u001b[0m\u001b[0;34m(\u001b[0m\u001b[0mresult\u001b[0m\u001b[0;34m.\u001b[0m\u001b[0mcontent\u001b[0m\u001b[0;34m.\u001b[0m\u001b[0mdecode\u001b[0m\u001b[0;34m(\u001b[0m\u001b[0;34m\"utf-8\"\u001b[0m\u001b[0;34m)\u001b[0m\u001b[0;34m)\u001b[0m\u001b[0;34m[\u001b[0m\u001b[0;34m'detail'\u001b[0m\u001b[0;34m]\u001b[0m\u001b[0;34m)\u001b[0m\u001b[0;34m\u001b[0m\u001b[0m\n\u001b[0m\u001b[1;32m     59\u001b[0m \u001b[0;34m\u001b[0m\u001b[0m\n\u001b[1;32m     60\u001b[0m     \u001b[0;32mdef\u001b[0m \u001b[0m_test_auth\u001b[0m\u001b[0;34m(\u001b[0m\u001b[0mself\u001b[0m\u001b[0;34m)\u001b[0m\u001b[0;34m:\u001b[0m\u001b[0;34m\u001b[0m\u001b[0m\n",
      "\u001b[0;31mThrottleError\u001b[0m: Request was throttled. Expected available in 85334 seconds."
     ]
    }
   ],
   "source": [
    "# Get historical data for competitions. Is it possible to loop with the throttling limits?\n",
    "i = 0\n",
    "for compet in competitions:\n",
    "    throne.competition(compet).get_historical_data()\n",
    "    if i == 0:\n",
    "        NewData = throne.competition.historical_data\n",
    "        NewData['competition'] = compet\n",
    "        print(compet)\n",
    "        print(i)\n",
    "    else:\n",
    "        temp = throne.competition.historical_data\n",
    "        temp['competition'] = compet\n",
    "        NewData = pd.concat([NewData,temp],ignore_index=True,axis=0)\n",
    "        print(compet)\n",
    "        print(i)\n",
    "    i += 1\n",
    "    time.sleep(time_sleep)"
   ]
  },
  {
   "cell_type": "code",
   "execution_count": null,
   "metadata": {},
   "outputs": [],
   "source": [
    "#clean data :\n",
    "ThroneData(NewData)\n",
    "print(NewData.info())\n",
    "print('------------------')\n",
    "print(NewData.tail())\n",
    "print('------------------')\n",
    "print(NewData.competition.value_counts())"
   ]
  },
  {
   "cell_type": "code",
   "execution_count": null,
   "metadata": {},
   "outputs": [],
   "source": [
    "# Database\n",
    "con = sqlite3.connect('/home/nicolas/Notebook/Python/ASP/Database/Sports_Results.db')\n",
    "c = con.cursor()\n",
    "engine = create_engine(\"sqlite:////home/nicolas/Notebook/Python/ASP/Database/Sports_Results.db\")"
   ]
  },
  {
   "cell_type": "code",
   "execution_count": null,
   "metadata": {},
   "outputs": [],
   "source": [
    "#c.execute('''DROP TABLE IF EXISTS ThroneHistorical;''')\n",
    "#table_exist = c.execute(\"SELECT name FROM sqlite_master WHERE type='table' and name='ThroneHistorical';\").fetchall()\n",
    "#print(table_exist)\n",
    "#if table_exist != []:\n",
    "#    HistoId = pd.read_sql_query(\"select id from ThroneHistorical;\",con)\n",
    "#    HistoExist = 1;\n",
    "#else:\n",
    "#    HistoExist = 0;\n",
    "#Throne_historical_data = pd.read_sql_query(\"select * from ThroneHistorical;\",con)\n",
    "#print(HistoExist)\n",
    "# test if id's are already on the database\n",
    "# problem because columns are not the same between competitions..\n",
    "#if HistoExist == 0:\n",
    "#    NewData.to_sql('ThroneHistorical',engine,index=False)\n",
    "#else:\n",
    "#    c.execute('''DROP TABLE IF EXISTS ThroneHistorical;''')\n",
    "#    NewId = pd.merge(NewData,HistoId, on='id', how='outer',indicator=True)\n",
    "#    NewId = NewId[NewId._merge == 'left_only'].drop(['_merge'], axis=1)\n",
    "#    ThroneData(NewId)\n",
    "#    print(NewId.info())\n",
    "#    NewId.to_sql('ThroneHistorical',engine,index=False,if_exists='append')"
   ]
  },
  {
   "cell_type": "code",
   "execution_count": null,
   "metadata": {},
   "outputs": [],
   "source": [
    "c.execute('''DROP TABLE IF EXISTS ThroneHistorical;''')\n",
    "NewData.to_sql('ThroneHistorical',engine,index=False,if_exists='append')\n",
    "c.execute(\"select count(*) from ThroneHistorical;\")\n",
    "results = c.fetchall()\n",
    "print(results)"
   ]
  }
 ],
 "metadata": {
  "kernelspec": {
   "display_name": "Python 3",
   "language": "python",
   "name": "python3"
  },
  "language_info": {
   "codemirror_mode": {
    "name": "ipython",
    "version": 3
   },
   "file_extension": ".py",
   "mimetype": "text/x-python",
   "name": "python",
   "nbconvert_exporter": "python",
   "pygments_lexer": "ipython3",
   "version": "3.6.3"
  }
 },
 "nbformat": 4,
 "nbformat_minor": 2
}
