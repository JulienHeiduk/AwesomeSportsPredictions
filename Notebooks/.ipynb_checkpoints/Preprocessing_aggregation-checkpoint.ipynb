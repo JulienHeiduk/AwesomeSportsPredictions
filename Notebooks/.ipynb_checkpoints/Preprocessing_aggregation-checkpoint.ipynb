{
 "cells": [
  {
   "cell_type": "code",
   "execution_count": 219,
   "metadata": {},
   "outputs": [],
   "source": [
    "import pandas as pd\n",
    "import sqlite3\n",
    "import numpy as np\n",
    "from sklearn.metrics import accuracy_score\n",
    "from sklearn.model_selection import StratifiedKFold\n",
    "from  sklearn.ensemble import RandomForestClassifier\n",
    "from sklearn.linear_model import LogisticRegression, SGDClassifier\n",
    "from sklearn import preprocessing\n",
    "import matplotlib.pyplot as plt\n",
    "import seaborn as sns\n",
    "from sklearn.model_selection import GridSearchCV\n",
    "import pickle   \n",
    "import datetime\n",
    "from sklearn.externals import joblib\n",
    "import xgboost as xgb\n",
    "import warnings\n",
    "from sklearn import svm\n",
    "\n",
    "warnings.filterwarnings(\"ignore\")\n",
    "\n",
    "warnings.filterwarnings(\"ignore\", category=DeprecationWarning)\n",
    "sns.set_style('whitegrid')\n",
    "%matplotlib inline\n",
    "\n",
    "con = sqlite3.connect('/home/Project_DS/Database/Sports_Results.db')\n",
    "df = pd.read_sql_query(\"select * from ThroneHistorical;\", con)\n",
    "to_pred = pd.read_sql_query(\"select * from ThronePrediction;\", con)\n",
    "id_pred = to_pred.id\n",
    "date_pred = to_pred.date\n",
    "\n",
    "# Select current season and previous season\n",
    "# Computate the season\n",
    "now = datetime.datetime.now()\n",
    "\n",
    "if now.month < 8:\n",
    "    season_current = now.year - 1\n",
    "    season_previous = now.year\n",
    "if now.month > 8:\n",
    "    season_current = now.year\n",
    "\n",
    "season_previous = now.year - 1\n",
    "\n",
    "df_previous = df[df['year'].astype(int) < 2017]\n",
    "\n",
    "df['year'] = df['year'].astype(int)\n",
    "df = df[df['year'].astype(int) >= season_previous].reset_index(drop = True) \n",
    "\n",
    "\n",
    "def preprocess_date(data_input, data_to_pred_input):\n",
    "    \n",
    "    data_to_pred = data_to_pred_input.copy()\n",
    "    # Change to datetime and extract the hour\n",
    "    data_input['date'] = pd.to_datetime(data_input['date'])\n",
    "    data_input['hour'] = data_input['date'].apply(lambda x: x.hour)\n",
    "    data_to_pred['date'] = pd.to_datetime(data_to_pred['date'])\n",
    "    data_to_pred['hour'] = data_to_pred['date'].apply(lambda x: x.hour)\n",
    "    \n",
    "    # Drop datetime and date\n",
    "    data_input.drop(['id','date','competition'], axis = 1, inplace = True)\n",
    "    data_to_pred.drop(['id','competition','team_1_prob','team_2_prob','team_tie_prob','date','confidence'], axis = 1, inplace = True)\n",
    "    \n",
    "    # Label encoding\n",
    "    to_stack = df[['team_1_name', 'team_2_name']]\n",
    "    to_stack = pd.DataFrame(to_stack.stack()).reset_index(drop = True)[0]\n",
    "\n",
    "    le = preprocessing.LabelEncoder()\n",
    "    le.fit(to_stack)\n",
    "    data_input['team_1_name'] = le.transform(data_input['team_1_name']) \n",
    "    data_input['team_2_name'] = le.transform(data_input['team_2_name'])\n",
    "    data_input['day'] = data_input['day'].astype(int)\n",
    "    data_input['month'] = data_input['month'].astype(int)\n",
    "\n",
    "    data_to_pred['team_1_name'] = le.transform(data_to_pred['team_1_name']) \n",
    "    data_to_pred['team_2_name'] = le.transform(data_to_pred['team_2_name'])\n",
    "    data_to_pred['day'] = data_to_pred['day'].astype(int)\n",
    "    data_to_pred['month'] = data_to_pred['month'].astype(int)\n",
    "    \n",
    "    return data_input, data_to_pred\n",
    "\n",
    "def fezture_to_predict(row):\n",
    "    if row['team_1_score'] > row['team_2_score']:\n",
    "        return 1\n",
    "    if row['team_2_score'] > row['team_1_score']:\n",
    "        return 2\n",
    "    if row['team_1_score'] == row['team_2_score']:\n",
    "        return 0\n",
    "\n",
    "def aggreg_previous(data_input):\n",
    "    data_input = data_input[data_input['year'] == 2016]\n",
    "    \n",
    "    return data_input\n",
    "\n",
    "df, to_pred_ = preprocess_date(df, to_pred)\n",
    "df['To_Predict'] = df.apply (lambda row: fezture_to_predict(row), axis=1)\n",
    "df.drop(['team_1_score','team_2_score'], inplace = True, axis =1 )\n",
    "df_previous['Result'] = df_previous.apply (lambda row: fezture_to_predict(row), axis=1)\n",
    "\n",
    "X =  df.drop('To_Predict', axis = 1)\n",
    "y =  df['To_Predict']"
   ]
  },
  {
   "cell_type": "markdown",
   "metadata": {},
   "source": [
    "# I. Repartition for all classes"
   ]
  },
  {
   "cell_type": "code",
   "execution_count": 208,
   "metadata": {},
   "outputs": [],
   "source": [
    "# Repartition of class\n",
    "#fig, (axis1) = plt.subplots(1,1,figsize=(25,8))\n",
    "#sns.countplot(x = df['To_Predict'], order=[0,1,2], ax=axis1)\n",
    "#plt.title('Reapartition of classes 2017')\n",
    "#plt.show()"
   ]
  },
  {
   "cell_type": "code",
   "execution_count": 209,
   "metadata": {},
   "outputs": [],
   "source": [
    "# Repartition of class\n",
    "#fig, (axis1) = plt.subplots(1,1,figsize=(25,8))\n",
    "#sns.countplot(x = df_previous['Result'], order=[0,1,2], ax=axis1)\n",
    "#plt.title('Reapartition of classes 2016')\n",
    "#plt.show()"
   ]
  },
  {
   "cell_type": "markdown",
   "metadata": {},
   "source": [
    "# II. Model"
   ]
  },
  {
   "cell_type": "code",
   "execution_count": 235,
   "metadata": {},
   "outputs": [],
   "source": [
    "def model(clf, name):   \n",
    "    \n",
    "    clf.fit(X, y)\n",
    "    print(clf.best_params_ )\n",
    "    print(\"------------------\")\n",
    "    print(clf.best_score_)\n",
    "    with open(name + '.pkl', 'wb') as fh:                                             \n",
    "        pickle.dump(clf, fh)\n",
    "    \n",
    "def prediction(data_to_pred, filename):\n",
    "    loaded_model = joblib.load(filename)\n",
    "    result = loaded_model.predict_proba(data_to_pred)\n",
    "\n",
    "    return result"
   ]
  },
  {
   "cell_type": "code",
   "execution_count": null,
   "metadata": {},
   "outputs": [],
   "source": [
    "param_grid = {\"max_depth\": [1,2,3, 4, 5, 8, None],\n",
    "              \"n_estimators\": [50, 75, 100, 150],\n",
    "              \"min_samples_split\": [2, 3, 10],\n",
    "              \"min_samples_leaf\": [1, 3, 10],\n",
    "              \"bootstrap\": [True, False],\n",
    "              \"criterion\": [\"gini\", \"entropy\"]}\n",
    "\n",
    "RF = GridSearchCV(RandomForestClassifier(n_jobs = -1), cv = 3, param_grid = param_grid, verbose = 0, n_jobs = -1, scoring = 'accuracy')\n",
    "\n",
    "model(RF, 'RF')"
   ]
  },
  {
   "cell_type": "code",
   "execution_count": 169,
   "metadata": {},
   "outputs": [
    {
     "name": "stdout",
     "output_type": "stream",
     "text": [
      "{'C': 50, 'penalty': 'l2', 'max_iter': 50, 'multi_class': 'ovr', 'solver': 'lbfgs'}\n",
      "------------------\n",
      "0.5672823219\n"
     ]
    }
   ],
   "source": [
    "param_grid = {\"penalty\": [\"l2\"],\n",
    "              \"C\": [0.01, 0.1, 1, 10, 50, 75, 100, 1000],\n",
    "              \"max_iter\": [25, 50, 75, 100, 200, 500],\n",
    "              \"solver\": ['newton-cg', 'lbfgs', 'sag', 'saga'],\n",
    "              \"multi_class\": ['ovr', 'multinomial']}\n",
    "\n",
    "LR = GridSearchCV(LogisticRegression(), cv = 3, param_grid = param_grid, verbose = 0, n_jobs = -1, scoring = 'accuracy')\n",
    "\n",
    "model(LR, 'LR')"
   ]
  },
  {
   "cell_type": "code",
   "execution_count": 203,
   "metadata": {},
   "outputs": [
    {
     "name": "stdout",
     "output_type": "stream",
     "text": [
      "{'l1_ratio': 0.75, 'penalty': 'l1', 'max_iter': 10000, 'learning_rate': 'optimal', 'loss': 'log'}\n",
      "------------------\n",
      "0.560686015831\n"
     ]
    }
   ],
   "source": [
    "sgd = SGDClassifier()\n",
    "\n",
    "param_grid = {'penalty':['l1', 'l2','elasticnet'],\n",
    "             'loss': ['hinge', 'log', 'modified_huber', 'squared_hinge'],\n",
    "             'learning_rate': ['optimal'],\n",
    "             'max_iter':[10000],\n",
    "             'l1_ratio': [0.15, 0.25, 0.5, 0.75, 0.85]}\n",
    "\n",
    "\n",
    "SGD = GridSearchCV(sgd,  cv = 3, param_grid = param_grid, verbose = 0, n_jobs = -1, scoring = 'accuracy')\n",
    "\n",
    "model(SGD, 'SGD')"
   ]
  },
  {
   "cell_type": "code",
   "execution_count": 206,
   "metadata": {},
   "outputs": [
    {
     "name": "stdout",
     "output_type": "stream",
     "text": [
      "{'C': 3000, 'degree': 3, 'kernel': 'rbf', 'gamma': 1e-06}\n",
      "------------------\n",
      "0.552770448549\n"
     ]
    }
   ],
   "source": [
    "svc = svm.SVC(probability = True)\n",
    "\n",
    "param_grid = {'kernel': ['linear', 'poly', 'rbf', 'sigmoid'], \n",
    "              'gamma': [1e-3, 1e-4, 1e-5, 1e-6],\n",
    "               'C': [2000, 2500, 3000, 3500],\n",
    "             'degree': [3]}\n",
    "\n",
    "SVC = GridSearchCV(svc,  cv = 3, param_grid = param_grid, verbose = 0, n_jobs = -1, scoring = 'accuracy')\n",
    "\n",
    "model(SVC, 'SVC')"
   ]
  },
  {
   "cell_type": "code",
   "execution_count": 243,
   "metadata": {},
   "outputs": [],
   "source": [
    "#print(prediction(to_pred_, 'RF.pkl'))\n",
    "#print(prediction(to_pred_, 'LR.pkl'))\n",
    "#print(prediction(to_pred_, 'SGD.pkl'))\n",
    "#print(prediction(to_pred_, 'SVC.pkl'))"
   ]
  },
  {
   "cell_type": "markdown",
   "metadata": {},
   "source": [
    "# III. Prediction and submission"
   ]
  },
  {
   "cell_type": "code",
   "execution_count": 242,
   "metadata": {},
   "outputs": [],
   "source": [
    "to_pred['team_tie_prob']  = prediction(to_pred_, 'RF.pkl')[:,0]\n",
    "to_pred['team_1_prob']  = prediction(to_pred_, 'RF.pkl')[:,1]\n",
    "to_pred['team_2_prob']  = prediction(to_pred_, 'RF.pkl')[:,2]"
   ]
  },
  {
   "cell_type": "code",
   "execution_count": 241,
   "metadata": {},
   "outputs": [
    {
     "data": {
      "text/plain": [
       "{'success': True}"
      ]
     },
     "execution_count": 241,
     "metadata": {},
     "output_type": "execute_result"
    }
   ],
   "source": [
    "import peyton\n",
    "\n",
    "throne = peyton.Throne(username='JulienHeiduk', token=\"bcebc6d7-f224-4940-a816-74e3e6d4c34a\")\n",
    "\n",
    "# Submit predictions \n",
    "throne.competition('Italian Serie A').submit(to_pred)"
   ]
  },
  {
   "cell_type": "code",
   "execution_count": null,
   "metadata": {},
   "outputs": [],
   "source": []
  },
  {
   "cell_type": "code",
   "execution_count": null,
   "metadata": {},
   "outputs": [],
   "source": []
  }
 ],
 "metadata": {
  "kernelspec": {
   "display_name": "Python 3",
   "language": "python",
   "name": "python3"
  },
  "language_info": {
   "codemirror_mode": {
    "name": "ipython",
    "version": 3
   },
   "file_extension": ".py",
   "mimetype": "text/x-python",
   "name": "python",
   "nbconvert_exporter": "python",
   "pygments_lexer": "ipython3",
   "version": "3.5.2"
  }
 },
 "nbformat": 4,
 "nbformat_minor": 2
}
