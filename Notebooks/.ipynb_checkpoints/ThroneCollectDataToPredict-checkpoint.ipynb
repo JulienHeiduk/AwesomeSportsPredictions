{
 "cells": [
  {
   "cell_type": "code",
   "execution_count": null,
   "metadata": {},
   "outputs": [],
   "source": [
    "import peyton #throne package\n",
    "import pandas as pd\n",
    "import sqlite3\n",
    "from sqlalchemy import create_engine\n",
    "import time\n",
    "time_sleep = 2\n",
    "\n",
    "#list of the competition available on throme.ai (10/12/2017)\n",
    "#competitions = ['English Championship','English Premier League','Italian Serie A','Spanish La Liga','NBA','NFL','NHL']\n",
    "competitions = ['Italian Serie A']"
   ]
  },
  {
   "cell_type": "code",
   "execution_count": null,
   "metadata": {},
   "outputs": [],
   "source": [
    "#ThroneUser = \"JulienHeiduk\"\n",
    "#ThroneToken = \"bcebc6d7-f224-4940-a816-74e3e6d4c34a\" # Julien\n",
    "ThroneUser = \"NicoDupont\"\n",
    "ThroneToken = \"802f4123-4696-4b35-9e31-e8c32d91f658\" #Nico"
   ]
  },
  {
   "cell_type": "code",
   "execution_count": null,
   "metadata": {},
   "outputs": [],
   "source": [
    "# API throne.ai :\n",
    "throne = peyton.Throne(username=ThroneUser, token=ThroneToken)"
   ]
  },
  {
   "cell_type": "code",
   "execution_count": null,
   "metadata": {},
   "outputs": [],
   "source": [
    "#columns = Throne_historical_data.columns.tolist()\n",
    "#print(columns)\n",
    "def ThroneData(df):\n",
    "    df.reset_index()\n",
    "    #df.drop('Unnamed: 0', 1, inplace=True)\n",
    "    df['year'] = df.date.str.slice(0,4)\n",
    "    df['month'] = df.date.str.slice(5,7)\n",
    "    df['day'] = df.date.str.slice(8,10)"
   ]
  },
  {
   "cell_type": "code",
   "execution_count": null,
   "metadata": {},
   "outputs": [],
   "source": [
    "# Get data to predict for each competitions. Is it possible to loop with the throttling limits?\n",
    "i = 0\n",
    "for compet in competitions:\n",
    "    throne.competition(compet).get_competition_data()\n",
    "    if i == 0:\n",
    "        NewData = throne.competition.competition_data\n",
    "        NewData['competition'] = compet\n",
    "        print(compet)\n",
    "        print(i)\n",
    "    else:\n",
    "        temp = throne.competition.historical_data\n",
    "        temp['competition'] = compet\n",
    "        NewData = pd.concat([NewData,temp],ignore_index=True,axis=0)\n",
    "        print(compet)\n",
    "        print(i)\n",
    "    i += 1\n",
    "    time.sleep(time_sleep)"
   ]
  },
  {
   "cell_type": "code",
   "execution_count": null,
   "metadata": {},
   "outputs": [],
   "source": [
    "#clean data :\n",
    "ThroneData(NewData)\n",
    "print(NewData.info())\n",
    "print('------------------')\n",
    "print(NewData.tail())\n",
    "print('------------------')\n",
    "print(NewData.competition.value_counts())"
   ]
  },
  {
   "cell_type": "code",
   "execution_count": null,
   "metadata": {},
   "outputs": [],
   "source": [
    "# Database\n",
    "con = sqlite3.connect('/home/nicolas/Notebook/Python/ASP/Database/Sports_Results.db')\n",
    "c = con.cursor()\n",
    "engine = create_engine(\"sqlite:////home/nicolas/Notebook/Python/ASP/Database/Sports_Results.db\")"
   ]
  },
  {
   "cell_type": "code",
   "execution_count": null,
   "metadata": {},
   "outputs": [],
   "source": [
    "c.execute('''DROP TABLE IF EXISTS ThronePrediction;''')\n",
    "NewData.to_sql('ThronePrediction',engine,index=False,if_exists='append')\n",
    "c.execute(\"select count(*) from ThronePrediction;\")\n",
    "results = c.fetchall()\n",
    "print(results)"
   ]
  }
 ],
 "metadata": {
  "kernelspec": {
   "display_name": "Python 3",
   "language": "python",
   "name": "python3"
  },
  "language_info": {
   "codemirror_mode": {
    "name": "ipython",
    "version": 3
   },
   "file_extension": ".py",
   "mimetype": "text/x-python",
   "name": "python",
   "nbconvert_exporter": "python",
   "pygments_lexer": "ipython3",
   "version": "3.6.3"
  }
 },
 "nbformat": 4,
 "nbformat_minor": 2
}
